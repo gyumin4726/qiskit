{
  "cells": [
    {
      "cell_type": "markdown",
      "id": "9cc67665",
      "metadata": {
        "id": "9cc67665"
      },
      "source": [
        "# Quantum Phase Estimation (QPE) Algorithm\n",
        "\n",
        "QPE는 다음과 같은 문제를 해결한다:\n",
        "> 단위리 연산자 $U$의 고유벡터 $|\\psi\\rangle$에 대해 $U|\\psi\\rangle = e^{2\\pi i \\theta}|\\psi\\rangle$ 이라면, $\\theta$ 값을 추정하라.\n",
        "\n",
        "---\n",
        "\n",
        "## 알고리즘 개요\n",
        "\n",
        "1. 추정용 큐비트 $n$개는 Hadamard 게이트를 통해 superposition 상태로 초기화\n",
        "2. 타겟 큐비트는 $|\\psi\\rangle$ 고유벡터로 초기화 (예: $|1\\rangle$)\n",
        "3. 각 추정용 큐비트는 제어된 $U^{2^j}$ 연산에 연결\n",
        "4. 역 QFT를 적용하여 $\\theta$를 추출\n",
        "5. 측정을 통해 2진수 근사값 얻기\n"
      ]
    },
    {
      "cell_type": "code",
      "source": [
        "!pip install \"qiskit[visualization]\" qiskit-aer --quiet"
      ],
      "metadata": {
        "id": "bR7ZplL6GgLm"
      },
      "id": "bR7ZplL6GgLm",
      "execution_count": 66,
      "outputs": []
    },
    {
      "cell_type": "code",
      "execution_count": 67,
      "id": "e6efc1b2",
      "metadata": {
        "id": "e6efc1b2"
      },
      "outputs": [],
      "source": [
        "from qiskit import QuantumCircuit\n",
        "from qiskit_aer import AerSimulator\n",
        "from qiskit.visualization import plot_histogram\n",
        "from qiskit.circuit.library import QFT\n",
        "from qiskit.visualization import plot_histogram\n",
        "import numpy as np\n",
        "import matplotlib.pyplot as plt\n"
      ]
    },
    {
      "cell_type": "markdown",
      "id": "d45ccdc3",
      "metadata": {
        "id": "d45ccdc3"
      },
      "source": [
        "## Step 1: 추정할 위상값 정의"
      ]
    },
    {
      "cell_type": "code",
      "execution_count": 68,
      "id": "1ee75173",
      "metadata": {
        "id": "1ee75173"
      },
      "outputs": [],
      "source": [
        "theta = 0.125  # 우리가 추정하고자 하는 θ (e^{2πiθ} 형태의 위상)"
      ]
    },
    {
      "cell_type": "markdown",
      "source": [
        "## 코드 요약 및 해설\n",
        "\n",
        "- 이 코드는 Quantum Phase Estimation (QPE) 알고리즘에서 사용할 위상값 `theta`를 정의한다.\n",
        "- `theta`는 유니터리 연산자의 고유값에서 추정 대상이 되는 위상 값이다.\n",
        "- 이 실험에서는 `theta = 0.125`로 설정하여, 해당 위상을 얼마나 정확히 추정할 수 있는지를 확인한다.\n",
        "\n",
        "---\n",
        "\n",
        "## Addition\n",
        "\n",
        "### 1. theta의 의미\n",
        "\n",
        "- QPE 알고리즘은 특정 유니터리 연산자에 대한 위상 정보를 추출하는 알고리즘이다.\n",
        "- 위상 `theta`는 0과 1 사이의 실수이며, 출력 결과는 이 값을 이진수로 근사한 형태로 나타낸다.\n",
        "\n",
        "### 2. theta = 0.125의 특성\n",
        "\n",
        "- `theta = 0.125`는 10진수로 1/8이며, 2진수로는 `0.001`에 해당한다.\n",
        "- 따라서 위상 추정용 큐비트를 3개 사용하면 이 값을 정확하게 표현할 수 있다.\n",
        "- 이 경우 QPE 알고리즘의 출력 결과는 `'001'`이 될 것으로 기대된다."
      ],
      "metadata": {
        "id": "wSOLnPvUJjLT"
      },
      "id": "wSOLnPvUJjLT"
    },
    {
      "cell_type": "markdown",
      "id": "03cec357",
      "metadata": {
        "id": "03cec357"
      },
      "source": [
        "## Step 2: QPE 회로 구성"
      ]
    },
    {
      "cell_type": "code",
      "execution_count": 69,
      "id": "5e9dd671",
      "metadata": {
        "colab": {
          "base_uri": "https://localhost:8080/"
        },
        "id": "5e9dd671",
        "outputId": "aff0d573-e95b-47bf-fd2c-70030ee33d96"
      },
      "outputs": [
        {
          "output_type": "execute_result",
          "data": {
            "text/plain": [
              "<qiskit.circuit.instructionset.InstructionSet at 0x79d1ccf8f370>"
            ]
          },
          "metadata": {},
          "execution_count": 69
        }
      ],
      "source": [
        "# 총 4개의 큐비트와 3개의 고전 비트\n",
        "qc = QuantumCircuit(4, 3)  # 3개의 큐비트는 위상 추정용, 마지막 1개의 큐비트는 타겟용\n",
        "\n",
        "# 위 추정용 큐비트에 Hadamard 게이트 적용\n",
        "qc.h(0)\n",
        "qc.h(1)\n",
        "qc.h(2)\n",
        "\n",
        "# 타겟 큐비트는 X게이트를 이용하여 |1⟩ 상태 (고유벡터 역할)\n",
        "qc.x(3)\n"
      ]
    },
    {
      "cell_type": "markdown",
      "source": [
        "## 코드 요약 및 해설\n",
        "\n",
        "- 이 코드는 Quantum Phase Estimation (QPE) 회로의 초기 상태를 구성하는 부분이다.\n",
        "- 총 4개의 큐비트를 사용하며, 이 중 3개는 위상 추정을 위한 큐비트이고 1개는 타겟 유니터리 연산에 대한 고유벡터 역할을 한다.\n",
        "- 클래식 비트는 측정을 위해 3개가 필요하다.\n",
        "\n",
        "---\n",
        "\n",
        "## Addition\n",
        "\n",
        "### 1. 회로 구성\n",
        "\n",
        "- `QuantumCircuit(4, 3)`는 4개의 양자 큐비트와 3개의 클래식 비트를 생성합니다.\n",
        "  - 큐비트 0, 1, 2: 위상 추정용\n",
        "  - 큐비트 3: 타겟 큐비트 (고유벡터 역할)\n",
        "\n",
        "### 2. 초기화 과정\n",
        "\n",
        "- 위상 추정용 큐비트 0, 1, 2에 Hadamard 게이트를 적용하여, 균등한 상태로 만든다.\n",
        "  - 이 과정을 통해 병렬적으로 다양한 위상 정보를 탐색할 수 있게 된다.\n",
        "- 타겟 큐비트(큐비트 3)는 `X` 게이트를 적용하여 `|1⟩` 상태로 준비한다.\n",
        "  - 이 큐비트는 위상 정보를 가진 유니터리 연산자의 고유벡터로 사용된다.\n"
      ],
      "metadata": {
        "id": "ttDGZJ_VKlFp"
      },
      "id": "ttDGZJ_VKlFp"
    },
    {
      "cell_type": "markdown",
      "id": "cbb6e3c4",
      "metadata": {
        "id": "cbb6e3c4"
      },
      "source": [
        "## Step 3: 제어된 U 연산 적용 (Controlled Phase Gates)"
      ]
    },
    {
      "cell_type": "code",
      "execution_count": 70,
      "id": "1057f502",
      "metadata": {
        "colab": {
          "base_uri": "https://localhost:8080/"
        },
        "id": "1057f502",
        "outputId": "3eb0a249-e013-46a6-ab7c-3fc73b80eb0b"
      },
      "outputs": [
        {
          "output_type": "execute_result",
          "data": {
            "text/plain": [
              "<qiskit.circuit.instructionset.InstructionSet at 0x79d1ccf8e440>"
            ]
          },
          "metadata": {},
          "execution_count": 70
        }
      ],
      "source": [
        "# 위상에 따라 cp 게이트( Controlled-Phase 게이트)를 적용\n",
        "#각 추정용 큐비트가 타겟 큐비트에 위상을 제어하는 방식으로 연결\n",
        "qc.cp(2 * np.pi * theta, 2, 3)      # 추정 큐비트 2번: U^1 (2^0 배 위상)\n",
        "qc.cp(4 * np.pi * theta, 1, 3)      # 추정 큐비트 1번: U^2 (2^1 배 위상)\n",
        "qc.cp(8 * np.pi * theta, 0, 3)      # 추정 큐비트 0번: U^4 (2^2 배 위상)"
      ]
    },
    {
      "cell_type": "markdown",
      "source": [
        "## 코드 요약 및 해설\n",
        "\n",
        "- 이 코드는 위상 추정 알고리즘의 핵심 단계인 **U^(2^k)** 연산을 구현한 부분이다.\n",
        "- Controlled-Phase (cp) 게이트를 사용하여, 추정용 큐비트 각각이 타겟 큐비트에 위상 정보를 적용하도록 구성한다.\n",
        "- 이 과정은 θ 값을 추정용 큐비트 상태에 인코딩하는 역할을 한다.\n",
        "\n",
        "---\n",
        "\n",
        "## Addition\n",
        "\n",
        "### 1. 위상 적용의 원리\n",
        "\n",
        "- 위상 추정 알고리즘에서는 각 추정 큐비트에 대해 유니터리 연산 \\( U^{2^k} \\)를 제어된 형태로 적용해야 한다.\n",
        "- 여기서는 유니터리 연산이 단순한 위상 회전이므로, `cp` 게이트로 이를 간단하게 구현할 수 있다.\n",
        "\n",
        "### 2. 각 게이트의 의미\n",
        "\n",
        "- `qc.cp(2 * np.pi * theta, 2, 3)`  \n",
        "  - 추정 큐비트 2번이 타겟 큐비트에 위상을 한 번 적용  \n",
        "  - 이는 유니터리 연산 U의 1제곱에 해당\n",
        "\n",
        "- `qc.cp(4 * np.pi * theta, 1, 3)`  \n",
        "  - 추정 큐비트 1번이 타겟 큐비트에 두 배 크기의 위상을 적용  \n",
        "  - U의 2제곱에 해당\n",
        "\n",
        "- `qc.cp(8 * np.pi * theta, 0, 3)`  \n",
        "  - 추정 큐비트 0번이 타겟 큐비트에 네 배 크기의 위상을 적용  \n",
        "  - U의 4제곱에 해당\n",
        "\n",
        "- 위상은 추정 큐비트의 위치에 따라 두 배씩 증가하며 적용된다.\n",
        "\n"
      ],
      "metadata": {
        "id": "1RcILCawK-UR"
      },
      "id": "1RcILCawK-UR"
    },
    {
      "cell_type": "markdown",
      "id": "3ce5ba4f",
      "metadata": {
        "id": "3ce5ba4f"
      },
      "source": [
        "## Step 4: 역 QFT 적용"
      ]
    },
    {
      "cell_type": "code",
      "execution_count": 71,
      "id": "51a61632",
      "metadata": {
        "colab": {
          "base_uri": "https://localhost:8080/"
        },
        "id": "51a61632",
        "outputId": "df65d29f-b934-4dfa-8606-1c34d3c69293"
      },
      "outputs": [
        {
          "output_type": "execute_result",
          "data": {
            "text/plain": [
              "<qiskit.circuit.instructionset.InstructionSet at 0x79d1ccf8dea0>"
            ]
          },
          "metadata": {},
          "execution_count": 71
        }
      ],
      "source": [
        "# 역 QFT (Quantum Fourier Transform)의 수동 구현 - 3비트용\n",
        "\n",
        "qc.swap(0, 2)               # 큐비트 순서 반전 (QFT는 출력 순서를 반대로 정렬)\n",
        "qc.h(0)                     # Hadamard 게이트로 큐비트 0에 주파수 성분 분리 시작\n",
        "qc.cp(-np.pi/2, 0, 1)       # 큐비트 0과 1 사이 위상 보정 (1/2 위상)\n",
        "qc.cp(-np.pi/4, 0, 2)       # 큐비트 0과 2 사이 위상 보정 (1/4 위상)\n",
        "qc.h(1)                     # 큐비트 1에 Hadamard 적용 (주파수 해석)\n",
        "qc.cp(-np.pi/2, 1, 2)       # 큐비트 1과 2 사이 위상 보정 (1/2 위상)\n",
        "qc.h(2)                     # 마지막 큐비트 2에 Hadamard 적용"
      ]
    },
    {
      "cell_type": "markdown",
      "source": [
        "## 코드 요약 및 해설\n",
        "\n",
        "- 이 코드는 3비트용 역 QFT (Quantum Fourier Transform)를 수동으로 구현한 부분이다.\n",
        "- Qiskit에서 기본 QFT 게이트는 `AerSimulator`에서 오류를 발생시킬 수 있기 때문에, 기본 게이트만으로 직접 작성한다.\n",
        "- 위상 추정 알고리즘에서 위상 정보를 읽기 전에 반드시 수행해야 하는 단계이다.\n",
        "\n",
        "---\n",
        "\n",
        "## Addition\n",
        "\n",
        "### 1. 역 QFT의 필요성\n",
        "\n",
        "- 위상 추정 과정에서 위상 정보는 각 큐비트의 위상 차이로 인코딩된다.\n",
        "- 역 QFT를 통해 이러한 위상 정보를 이진수로 변환하여 측정 가능한 형태로 바꿔준다.\n",
        "\n",
        "### 2. 코드 구성 설명\n",
        "\n",
        "- `qc.swap(0, 2)`  \n",
        "  - QFT는 출력 비트 순서를 반대로 정렬하므로, 큐비트 순서를 미리 바꿔준다.\n",
        "\n",
        "- `qc.h(0)`  \n",
        "  - 큐비트 0에 Hadamard 게이트 적용 → 주파수 성분 분리 시작\n",
        "\n",
        "- `qc.cp(-np.pi/2, 0, 1)`  \n",
        "  - 큐비트 0과 1 사이의 위상 보정 (1/2 회전)\n",
        "\n",
        "- `qc.cp(-np.pi/4, 0, 2)`  \n",
        "  - 큐비트 0과 2 사이의 위상 보정 (1/4 회전)\n",
        "\n",
        "- `qc.h(1)`  \n",
        "  - 큐비트 1에 Hadamard 게이트 적용\n",
        "\n",
        "- `qc.cp(-np.pi/2, 1, 2)`  \n",
        "  - 큐비트 1과 2 사이의 위상 보정 (1/2 회전)\n",
        "\n",
        "- `qc.h(2)`  \n",
        "  - 마지막 큐비트 2에 Hadamard 게이트 적용하여 주파수 정보 해석 완료"
      ],
      "metadata": {
        "id": "piiFyJw7LV4L"
      },
      "id": "piiFyJw7LV4L"
    },
    {
      "cell_type": "markdown",
      "id": "5ad4f43f",
      "metadata": {
        "id": "5ad4f43f"
      },
      "source": [
        "## Step 5: 측정"
      ]
    },
    {
      "cell_type": "code",
      "execution_count": 72,
      "id": "4aa0e1a9",
      "metadata": {
        "colab": {
          "base_uri": "https://localhost:8080/",
          "height": 217
        },
        "id": "4aa0e1a9",
        "outputId": "195afc18-1591-49d8-da5c-58a32dbc8e76"
      },
      "outputs": [
        {
          "output_type": "execute_result",
          "data": {
            "text/plain": [
              "<Figure size 1708.89x451.5 with 1 Axes>"
            ],
            "image/png": "[encoded data removed]"
          },
          "metadata": {},
          "execution_count": 72
        }
      ],
      "source": [
        "# 측정\n",
        "# 큐비트 2, 1, 0을 각각 클래식 비트 0, 1, 2에 측정값으로 저장\n",
        "# 이렇게 순서를 반대로 지정하는 이유는 Qiskit의 큐비트 순서가 LSB → MSB이기 때문\n",
        "# 결과를 사람이 읽는 일반적인 이진수 형태(MSB → LSB)로 보기 위해 측정 순서를 반대로 설정\n",
        "\n",
        "qc.measure([2, 1, 0], [0, 1, 2])  # MSB를 왼쪽에, LSB를 오른쪽에 오도록 정렬\n",
        "qc.draw('mpl')  # 회로 시각화\n"
      ]
    },
    {
      "cell_type": "markdown",
      "source": [
        "## 코드 요약 및 해설\n",
        "\n",
        "- 이 코드는 QPE 회로에서 위상 추정 큐비트의 상태를 측정하여, 고전적인 이진수로 결과를 출력하는 단계이다.\n",
        "- 큐비트 2, 1, 0을 각각 클래식 비트 0, 1, 2에 매핑함으로써, 최종 측정 결과가 일반적인 이진수 순서로 출력되도록 한다.\n",
        "\n",
        "---\n",
        "\n",
        "## Addition\n",
        "\n",
        "### 1. 측정 순서의 이유\n",
        "\n",
        "- Qiskit에서는 큐비트 번호가 클수록 **상위 비트(MSB)**가 아니라 **하위 비트(LSB)**로 해석되는 구조이다.\n",
        "- 예를 들어 기본적으로 `measure([0,1,2], [0,1,2])`라고 하면, 실제로는 결과가 `LSB → MSB` 순서로 출력된다.\n",
        "- 하지만 우리는 사람이 읽기 쉬운 `MSB → LSB` 형태의 이진수로 결과를 보고자 하므로,\n",
        "  - 측정 순서를 **반대로 지정**하여 결과값을 정방향 이진수처럼 보이게 한다.\n",
        "\n",
        "### 2. 코드 설명\n",
        "\n",
        "- `qc.measure([2, 1, 0], [0, 1, 2])`\n",
        "  - 큐비트 2 → 클래스 비트 0 (가장 왼쪽 비트)\n",
        "  - 큐비트 0 → 클래스 비트 2 (가장 오른쪽 비트)\n",
        "  - 결과적으로 `'001'`, `'101'` 등과 같은 일반적인 이진수 형태로 해석 가능\n"
      ],
      "metadata": {
        "id": "vXz4FkfVLkVC"
      },
      "id": "vXz4FkfVLkVC"
    },
    {
      "cell_type": "markdown",
      "id": "79ad5a98",
      "metadata": {
        "id": "79ad5a98"
      },
      "source": [
        "## Step 6: 시뮬레이션 및 결과 시각화"
      ]
    },
    {
      "cell_type": "code",
      "execution_count": 73,
      "id": "f1cf5bd3",
      "metadata": {
        "colab": {
          "base_uri": "https://localhost:8080/",
          "height": 487
        },
        "id": "f1cf5bd3",
        "outputId": "2c09fc3d-5321-47e7-f6d0-5b3ae7e4c33f"
      },
      "outputs": [
        {
          "output_type": "display_data",
          "data": {
            "text/plain": [
              "<Figure size 640x480 with 1 Axes>"
            ],
            "image/png": "[encoded data removed]"
          },
          "metadata": {}
        }
      ],
      "source": [
        "# 시뮬레이터 실행 (1024)\n",
        "simulator = AerSimulator()\n",
        "job = simulator.run(qc, shots=1024)\n",
        "result = job.result()\n",
        "counts = result.get_counts()\n",
        "\n",
        "# 결과 시각화\n",
        "hist = plot_histogram(counts)\n",
        "display(hist)"
      ]
    },
    {
      "cell_type": "markdown",
      "id": "d7f5a110",
      "metadata": {
        "id": "d7f5a110"
      },
      "source": [
        "## 결과 해석\n",
        "\n",
        "이번 실험에서는 추정하고자 하는 위상 `theta`의 값이 0.125로 설정되어 있으며, 이는 2진수로 `0.001`에 해당한.  \n",
        "따라서 위상 추정 결과에서 가장 많이 등장해야 하는 이진 출력은 `'001'`이다.\n",
        "\n",
        "그래프를 보면 `'001'`이 460회로 가장 높은 빈도를 보이며, 이는 우리가 의도한 위상 `0.125`를 정확히 추정한 결과이다.\n",
        "\n",
        "그 외에도 `'010'`, `'011'`, `'101'` 등 다른 이진 값들이 일부 등장했지만, 이는 양자 측정의 확률적 특성에 따른 것으로 자연스러운 현상이다."
      ]
    }
  ],
  "metadata": {
    "colab": {
      "provenance": []
    },
    "language_info": {
      "name": "python"
    },
    "kernelspec": {
      "name": "python3",
      "display_name": "Python 3"
    }
  },
  "nbformat": 4,
  "nbformat_minor": 5
}