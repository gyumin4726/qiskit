{
  "cells": [
    {
      "cell_type": "markdown",
      "id": "a09c6a4d",
      "metadata": {
        "id": "a09c6a4d"
      },
      "source": [
        "# Deutsch–Jozsa Algorithm\n",
        "\n",
        "Deutsch–Jozsa 알고리즘은 주어진 함수가 상수 함수인지 균형 함수인지 단 한 번의 함수 호출만으로 판별할 수 있는 양조 알고리즘이다.\n",
        "\n",
        "주어진 함수 f:{0,1}^n →{0,1}가 상수 함수인지 균형 함수인지 판단한다."
      ]
    },
    {
      "cell_type": "markdown",
      "id": "67421686",
      "metadata": {
        "id": "67421686"
      },
      "source": [
        "## 1. Import Libraries"
      ]
    },
    {
      "cell_type": "code",
      "source": [
        "!pip install \"qiskit[visualization]\" qiskit-aer --quiet"
      ],
      "metadata": {
        "colab": {
          "base_uri": "https://localhost:8080/"
        },
        "id": "vE_cZ6Xr609h",
        "outputId": "ff33415f-27f6-4014-b3f7-20596fb455ea"
      },
      "id": "vE_cZ6Xr609h",
      "execution_count": 2,
      "outputs": [
        {
          "output_type": "stream",
          "name": "stdout",
          "text": [
            "\u001b[?25l     \u001b[90m━━━━━━━━━━━━━━━━━━━━━━━━━━━━━━━━━━━━━━━━\u001b[0m \u001b[32m0.0/162.6 kB\u001b[0m \u001b[31m?\u001b[0m eta \u001b[36m-:--:--\u001b[0m\r\u001b[2K     \u001b[91m━━━━━━━━━━━━━━━━━━━━━━━━━━━━━━━━━━━━\u001b[0m\u001b[91m╸\u001b[0m\u001b[90m━━\u001b[0m \u001b[32m153.6/162.6 kB\u001b[0m \u001b[31m5.0 MB/s\u001b[0m eta \u001b[36m0:00:01\u001b[0m\r\u001b[2K     \u001b[90m━━━━━━━━━━━━━━━━━━━━━━━━━━━━━━━━━━━━━━━\u001b[0m \u001b[32m162.6/162.6 kB\u001b[0m \u001b[31m3.8 MB/s\u001b[0m eta \u001b[36m0:00:00\u001b[0m\n",
            "\u001b[?25h  Preparing metadata (setup.py) ... \u001b[?25l\u001b[?25hdone\n",
            "\u001b[2K   \u001b[90m━━━━━━━━━━━━━━━━━━━━━━━━━━━━━━━━━━━━━━━━\u001b[0m \u001b[32m12.4/12.4 MB\u001b[0m \u001b[31m82.3 MB/s\u001b[0m eta \u001b[36m0:00:00\u001b[0m\n",
            "\u001b[2K   \u001b[90m━━━━━━━━━━━━━━━━━━━━━━━━━━━━━━━━━━━━━━━━\u001b[0m \u001b[32m119.7/119.7 kB\u001b[0m \u001b[31m9.6 MB/s\u001b[0m eta \u001b[36m0:00:00\u001b[0m\n",
            "\u001b[2K   \u001b[90m━━━━━━━━━━━━━━━━━━━━━━━━━━━━━━━━━━━━━━━━\u001b[0m \u001b[32m6.5/6.5 MB\u001b[0m \u001b[31m73.2 MB/s\u001b[0m eta \u001b[36m0:00:00\u001b[0m\n",
            "\u001b[2K   \u001b[90m━━━━━━━━━━━━━━━━━━━━━━━━━━━━━━━━━━━━━━━━\u001b[0m \u001b[32m2.1/2.1 MB\u001b[0m \u001b[31m62.8 MB/s\u001b[0m eta \u001b[36m0:00:00\u001b[0m\n",
            "\u001b[2K   \u001b[90m━━━━━━━━━━━━━━━━━━━━━━━━━━━━━━━━━━━━━━━━\u001b[0m \u001b[32m49.5/49.5 kB\u001b[0m \u001b[31m3.9 MB/s\u001b[0m eta \u001b[36m0:00:00\u001b[0m\n",
            "\u001b[2K   \u001b[90m━━━━━━━━━━━━━━━━━━━━━━━━━━━━━━━━━━━━━━━━\u001b[0m \u001b[32m49.7/49.7 MB\u001b[0m \u001b[31m16.1 MB/s\u001b[0m eta \u001b[36m0:00:00\u001b[0m\n",
            "\u001b[2K   \u001b[90m━━━━━━━━━━━━━━━━━━━━━━━━━━━━━━━━━━━━━━━━\u001b[0m \u001b[32m109.0/109.0 kB\u001b[0m \u001b[31m8.6 MB/s\u001b[0m eta \u001b[36m0:00:00\u001b[0m\n",
            "\u001b[?25h  Building wheel for pylatexenc (setup.py) ... \u001b[?25l\u001b[?25hdone\n"
          ]
        }
      ]
    },
    {
      "cell_type": "code",
      "execution_count": 8,
      "id": "2e3470cb",
      "metadata": {
        "id": "2e3470cb"
      },
      "outputs": [],
      "source": [
        "from qiskit import QuantumCircuit\n",
        "from qiskit_aer import AerSimulator\n",
        "from qiskit.visualization import plot_histogram"
      ]
    },
    {
      "cell_type": "markdown",
      "id": "975576cf",
      "metadata": {
        "id": "975576cf"
      },
      "source": [
        "## 2. Oracle Definitions  \n",
        "상수 함수와 균형 함수에 대한 Oracle(오라클)을 정의해야 한다.\n",
        "\n",
        "오라클이란, 특정 함수 f(x)를 양자 회로 내에서 계산하는 **블랙박스 연산자**를 의미한다.  \n",
        "입력을 넣으면 결과를 알려주지만, 내부 구조는 알 수 없는 연산자로,  \n",
        "양자 알고리즘에서는 이 오라클을 한 번만 호출하고도 문제를 해결하는 것이 핵심이다.\n",
        "\n",
        "- **상수 함수 오라클**: 입력에 상관없이 항상 같은 출력을 반환 (예: 항상 0)\n",
        "- **균형 함수 오라클**: 입력의 절반에는 0, 절반에는 1을 반환 (예: XOR 기반)\n",
        "\n",
        "이 두 가지 형태의 오라클을 정의하고, Deutsch–Jozsa 알고리즘을 통해 어떤 종류인지 판별할 수 있다.\n"
      ]
    },
    {
      "cell_type": "code",
      "execution_count": 18,
      "id": "cbfe7c60",
      "metadata": {
        "colab": {
          "base_uri": "https://localhost:8080/",
          "height": 320
        },
        "id": "cbfe7c60",
        "outputId": "a03df2ba-9048-49ed-d0aa-8339479c9150"
      },
      "outputs": [
        {
          "output_type": "execute_result",
          "data": {
            "text/plain": [
              "<Figure size 162.08x367.889 with 1 Axes>"
            ],
            "image/png": "[encoded data removed]"
          },
          "metadata": {},
          "execution_count": 18
        }
      ],
      "source": [
        "# 주어진 n비트 입력에 대해 항상 출력이 0이 되는 상수 함수 오라클\n",
        "def constant_oracle(n):\n",
        "    # 입력 큐비트 n개와 출력 큐비트 1개를 포함하는 양자 회로 생성\n",
        "    qc = QuantumCircuit(n + 1)\n",
        "\n",
        "    # 출력 큐비트에 아무 연산도 하지 않으므로, 항상 0을 출력 (즉, f(x)=0인 상수 함수)\n",
        "    return qc\n",
        "\n",
        "qc = constant_oracle(3)\n",
        "qc.draw('mpl')"
      ]
    },
    {
      "cell_type": "markdown",
      "source": [
        "## 코드 요약 및 해설\n",
        "\n",
        "- 이 함수는 **Deutsch–Jozsa 알고리즘에서 사용할 \"상수 함수 오라클\"**을 생성한다다.\n",
        "- 오라클은 입력값이 무엇이든 **항상 같은 출력값 (여기선 0)** 을 반환하는 함수이다.\n",
        "- 이 구현에서는 출력 큐비트에 **아무 연산도 하지 않음**으로써, f(x) = 0이 되도록 한다.\n",
        "\n",
        "---\n",
        "\n",
        "## Addition\n",
        "\n",
        "### 1. 회로 구성\n",
        "\n",
        "- 총 `n + 1`개의 큐비트를 사용\n",
        "  - 앞의 `n`개는 입력 큐비트\n",
        "  - 마지막 1개는 출력 큐비트\n",
        "\n",
        "### 2. 상수 함수 오라클의 동작 원리\n",
        "\n",
        "- 출력 큐비트에 어떤 게이트도 적용하지 않음\n",
        "  - 즉, 출력은 항상 `|0⟩` 상태 유지\n",
        "  - 결과적으로 f(x) = 0인 **항등 함수** 역할을 함\n",
        "- 이 방식은 Deutsch–Jozsa 알고리즘에서 **상수 함수인 경우의 대표 예시**로 자주 사용됩니다.\n",
        "\n",
        "\n"
      ],
      "metadata": {
        "id": "JEdE-yJeA_jO"
      },
      "id": "JEdE-yJeA_jO"
    },
    {
      "cell_type": "code",
      "execution_count": 20,
      "id": "b3a2278a",
      "metadata": {
        "colab": {
          "base_uri": "https://localhost:8080/",
          "height": 320
        },
        "id": "b3a2278a",
        "outputId": "6127204f-1dbe-419a-aec6-f1536bea5321"
      },
      "outputs": [
        {
          "output_type": "execute_result",
          "data": {
            "text/plain": [
              "<Figure size 371.107x367.889 with 1 Axes>"
            ],
            "image/png": "[encoded data removed]"
          },
          "metadata": {},
          "execution_count": 20
        }
      ],
      "source": [
        "# 입력값의 parity(짝수/홀수 여부)에 따라 출력 큐비트를 반전시키는 균형 함수 오라클\n",
        "def balanced_oracle(n):\n",
        "    # 입력 큐비트 n개와 출력 큐비트 1개를 포함하는 양자 회로 생성\n",
        "    qc = QuantumCircuit(n + 1)\n",
        "\n",
        "    # 입력 큐비트 각각을 출력 큐비트에 대해 CNOT 게이트로 연결 (결과적으로 출력 큐비트는 입력 큐비트들의 XOR 결과)\n",
        "    for i in range(n):\n",
        "        qc.cx(i, n)\n",
        "    return qc\n",
        "\n",
        "qc = balanced_oracle(3)\n",
        "qc.draw('mpl')"
      ]
    },
    {
      "cell_type": "markdown",
      "source": [
        "## 코드 요약 및 해설\n",
        "\n",
        "- 이 함수는 **Deutsch–Jozsa 알고리즘에서 사용할 \"균형 함수 오라클\"**을 생성한다.  \n",
        "- 오라클은 입력값에 따라 출력값이 바뀌되, 전체 입력 중 절반에 대해 0, 절반에 대해 1을 반환하는 함수이다.  \n",
        "- 이 구현에서는 입력 큐비트 각각을 출력 큐비트에 CNOT 게이트로 연결함으로써,  \n",
        "  출력 큐비트가 입력의 패리티(parity) — 즉, XOR 결과 — 에 따라 0 또는 1이 되도록 한다.\n",
        "\n",
        "---\n",
        "\n",
        "## Addition\n",
        "\n",
        "### 1. 회로 구성\n",
        "\n",
        "- 총 `n + 1`개의 큐비트를 사용\n",
        "  - 앞의 `n`개는 입력 큐비트\n",
        "  - 마지막 1개는 출력 큐비트\n",
        "\n",
        "### 2. 균형 함수 오라클의 동작 원리\n",
        "\n",
        "- 각 입력 큐비트를 출력 큐비트에 대해 CNOT 게이트로 연결\n",
        "  - CNOT는 제어 큐비트가 1일 때 대상 큐비트를 반전시킴\n",
        "- 결과적으로 출력 큐비트는 다음과 같은 상태가 됨(XOR):\n",
        "  - `f(x) = x₀ ⊕ x₁ ⊕ ... ⊕ xₙ₋₁`\n",
        "- 이 함수는 전체 입력의 절반에서는 0, 절반에서는 1을 반환하기 때문에  \n",
        "  **Deutsch–Jozsa 알고리즘의 균형 함수 조건을 만족**함\n"
      ],
      "metadata": {
        "id": "8nb-w-XtBfN6"
      },
      "id": "8nb-w-XtBfN6"
    },
    {
      "cell_type": "markdown",
      "id": "77935d03",
      "metadata": {
        "id": "77935d03"
      },
      "source": [
        "## 3. Deutsch–Jozsa Circuit"
      ]
    },
    {
      "cell_type": "code",
      "execution_count": 25,
      "id": "934d5aac",
      "metadata": {
        "id": "934d5aac"
      },
      "outputs": [],
      "source": [
        "# Deutsch–Jozsa 알고리즘 회로를 구성하는 함수\n",
        "def deutsch_jozsa_circuit(oracle, n):\n",
        "    # 입력 큐비트 n개 + 출력 큐비트 1개, 총 n+1개의 큐비트로 회로 생성\n",
        "    # 측정을 위해 입력 큐비트 n개 만큼 고전 비트 생성\n",
        "    qc = QuantumCircuit(n + 1, n)\n",
        "\n",
        "    # 출력 큐비트를 |1> 상태로 초기화 (X게이트 활용)\n",
        "    qc.x(n)\n",
        "\n",
        "    # 모든 큐비트에 Hadamard 게이트 적용하여 균등 중첩 상태로\n",
        "    qc.h(range(n + 1))\n",
        "\n",
        "    # 입력 및 출력에 작용하는 oracle 회로를 현재 회로에 합성\n",
        "    qc.compose(oracle, inplace=True)\n",
        "\n",
        "    # 다시 모든 큐비트에 Hadamard 게이트 적용\n",
        "    qc.h(range(n))\n",
        "\n",
        "    # 입력 큐비트만 측정하여 결과를 고전 비트에 저장\n",
        "    qc.measure(range(n), range(n))\n",
        "    return qc"
      ]
    },
    {
      "cell_type": "markdown",
      "source": [
        "## 코드 요약 및 해설\n",
        "\n",
        "- 이 함수는 Deutsch–Jozsa 알고리즘의 전체 양자 회로를 구성하는 함수이다.\n",
        "- 주어진 함수가 입력에 상관없이 항상 같은 값을 출력하는 \"상수 함수\"인지,  \n",
        "  혹은 입력의 절반은 0, 절반은 1을 출력하는 \"균형 함수\"인지 구별하는 것이 목적이다.  \n",
        "- Hadamard 게이트를 통해 입력 큐비트를 중첩 상태로 만든 후, 오라클을 적용하고 다시 Hadamard를 적용해  \n",
        "  간섭 결과를 측정하여 함수의 특성을 판단한다.\n",
        "\n",
        "---\n",
        "\n",
        "## Addition\n",
        "\n",
        "### 1. 각 게이트 정리\n",
        "\n",
        "- **X 게이트**: 0과 1 상태를 반전시키는 NOT 게이트\n",
        "- **H 게이트 (Hadamard)**: 입력을 모든 상태의 중첩으로 만드는 게이트\n",
        "- **측정 (measure)**: 양자 상태를 고전적 비트로 변환\n",
        "\n",
        "---\n",
        "\n",
        "### 2. 알고리즘 회로 구성 단계\n",
        "\n",
        "#### ① 출력 큐비트 초기화\n",
        "- `qc.x(n)`을 사용하여 출력 큐비트를 1로 설정\n",
        "- 이후 Hadamard 게이트를 적용하면 위상 반전을 위한 상태가 됨\n",
        "\n",
        "#### ② Hadamard 게이트 적용\n",
        "- `qc.h(range(n + 1))`: 모든 큐비트를 중첩 상태로 변환\n",
        "  - 입력 큐비트는 모든 가능한 입력의 중첩\n",
        "  - 출력 큐비트는 위상 정보를 줄 수 있는 상태로 변환\n",
        "\n",
        "#### ③ 오라클 적용\n",
        "- `qc.compose(oracle, inplace=True)`를 통해 오라클 회로를 삽입\n",
        "- 오라클은 특정 입력에 대해 출력 큐비트의 위상을 반전시킴\n",
        "\n",
        "#### ④ 두 번째 Hadamard 적용\n",
        "- `qc.h(range(n))`: 입력 큐비트에 다시 Hadamard를 적용\n",
        "- 간섭 효과로 인해 특정 상태의 진폭만 남고 나머지는 사라짐\n",
        "\n",
        "#### ⑤ 측정\n",
        "- `qc.measure(range(n), range(n))`: 입력 큐비트를 측정하여 결과 확인\n",
        "- 출력 큐비트는 측정하지 않아도 됨\n",
        "\n",
        "---\n",
        "\n",
        "### 3. 최종 결과 해석\n",
        "\n",
        "- 측정 결과가 `000`이면 → **상수 함수**\n",
        "- 측정 결과가 `000`이 아니면 → **균형 함수**\n",
        "\n",
        "- 단 한 번의 회로 실행으로 함수의 성질을 판별할 수 있어, 고전 알고리즘보다 훨씬 효율적이다.\n"
      ],
      "metadata": {
        "id": "FVl10pfo-v1w"
      },
      "id": "FVl10pfo-v1w"
    },
    {
      "cell_type": "code",
      "source": [
        "n=3"
      ],
      "metadata": {
        "id": "cUNv8UpV-lVE"
      },
      "id": "cUNv8UpV-lVE",
      "execution_count": null,
      "outputs": []
    },
    {
      "cell_type": "markdown",
      "id": "b8c2dff2",
      "metadata": {
        "id": "b8c2dff2"
      },
      "source": [
        "## 4. Run with Constant Oracle"
      ]
    },
    {
      "cell_type": "code",
      "execution_count": 30,
      "id": "dbac88f2",
      "metadata": {
        "colab": {
          "base_uri": "https://localhost:8080/",
          "height": 487
        },
        "id": "dbac88f2",
        "outputId": "80c5cae0-c781-4c0f-ebc1-3176ebd88de6"
      },
      "outputs": [
        {
          "output_type": "execute_result",
          "data": {
            "text/plain": [
              "<Figure size 640x480 with 1 Axes>"
            ],
            "image/png": "[encoded data removed]"
          },
          "metadata": {},
          "execution_count": 30
        }
      ],
      "source": [
        "# 상수 함수 오라클 생성\n",
        "oracle = constant_oracle(n)\n",
        "\n",
        "# 오라클이 포함된 Deutsch–Jozsa 알고리즘 회로 생성\n",
        "qc = deutsch_jozsa_circuit(oracle, n)\n",
        "\n",
        "# 최신 시뮬레이터 생성 및 실행\n",
        "simulator = AerSimulator()\n",
        "job = simulator.run(qc, shots=1024)\n",
        "result = job.result()\n",
        "counts = result.get_counts()\n",
        "\n",
        "# 결과 시각화\n",
        "plot_histogram(counts)"
      ]
    },
    {
      "cell_type": "code",
      "source": [
        "qc.draw('mpl')"
      ],
      "metadata": {
        "colab": {
          "base_uri": "https://localhost:8080/",
          "height": 384
        },
        "id": "VLDq2pOO94Oh",
        "outputId": "daa6473f-eca2-4a1c-ccba-80d9d939cd2d"
      },
      "id": "VLDq2pOO94Oh",
      "execution_count": 31,
      "outputs": [
        {
          "output_type": "execute_result",
          "data": {
            "text/plain": [
              "<Figure size 538.33x451.5 with 1 Axes>"
            ],
            "image/png": "[encoded data removed]"
          },
          "metadata": {},
          "execution_count": 31
        }
      ]
    },
    {
      "cell_type": "markdown",
      "source": [
        "## 코드 요약 및 해설\n",
        "\n",
        "- 이 코드는 **상수 함수 오라클**을 사용한 Deutsch–Jozsa 알고리즘의 전체 실행 과정이다.\n",
        "- 상수 함수 오라클은 어떤 입력이 들어와도 항상 출력이 0이 되는 함수 f(x) = 0을 시뮬레이션한다.\n",
        "- 알고리즘은 이 오라클을 포함한 양자 회로를 구성하고, Qiskit의 시뮬레이터로 1024번 실행한 후 측정 결과를 시각화한다.\n",
        "\n",
        "---\n",
        "\n",
        "## Addition\n",
        "\n",
        "### 1. 회로 구성\n",
        "\n",
        "- 회로에는 총 4개의 큐비트가 사용된다. (입력 큐비트 3개 + 출력 큐비트 1개)\n",
        "- 전체 흐름:\n",
        "  1. 출력 큐비트를 `|1⟩` 상태로 만들기 위해 X 게이트 적용\n",
        "  2. 모든 큐비트에 Hadamard 게이트 적용 → 입력: 중첩, 출력: `|−⟩` 상태\n",
        "  3. 오라클 (constant_oracle): 아무 연산도 하지 않음\n",
        "  4. 다시 입력 큐비트에 Hadamard 적용 → 간섭 효과로 진폭 정리\n",
        "  5. 입력 큐비트를 측정하여 결과 확인\n",
        "\n",
        "### 2. 오라클의 동작 원리\n",
        "\n",
        "- `constant_oracle(n)`은 출력 큐비트에 아무 게이트도 적용하지 않는다.\n",
        "- 따라서 f(x) = 0인 상수 함수로 동작한다.\n",
        "- 위상 반전이 발생하지 않으므로, 간섭 결과가 `|000⟩`에 집중된다."
      ],
      "metadata": {
        "id": "VgLmeS4kB8tp"
      },
      "id": "VgLmeS4kB8tp"
    },
    {
      "cell_type": "markdown",
      "id": "355372e4",
      "metadata": {
        "id": "355372e4"
      },
      "source": [
        "## 5. Run with Balanced Oracle"
      ]
    },
    {
      "cell_type": "code",
      "execution_count": 42,
      "id": "4c2541c7",
      "metadata": {
        "colab": {
          "base_uri": "https://localhost:8080/",
          "height": 487
        },
        "id": "4c2541c7",
        "outputId": "2c6960fd-2bd1-47aa-9258-568aa7b23681"
      },
      "outputs": [
        {
          "output_type": "execute_result",
          "data": {
            "text/plain": [
              "<Figure size 640x480 with 1 Axes>"
            ],
            "image/png": "[encoded data removed]"
          },
          "metadata": {},
          "execution_count": 42
        }
      ],
      "source": [
        "# 균형 함수 오라클 생성\n",
        "oracle = balanced_oracle(n)\n",
        "\n",
        "# 오라클이 포함된 Deutsch–Jozsa 알고리즘 회로 생성\n",
        "qc = deutsch_jozsa_circuit(oracle, n)\n",
        "\n",
        "# AerSimulator를 이용한 실행\n",
        "simulator = AerSimulator()\n",
        "job = simulator.run(qc, shots=1024)\n",
        "result = job.result()\n",
        "counts = result.get_counts()\n",
        "\n",
        "# 결과 시각화\n",
        "plot_histogram(counts)"
      ]
    },
    {
      "cell_type": "code",
      "source": [
        "qc.draw('mpl')"
      ],
      "metadata": {
        "colab": {
          "base_uri": "https://localhost:8080/",
          "height": 384
        },
        "id": "tGjxiM1s957J",
        "outputId": "84b408a9-cda3-4017-d0f5-b84f638e0013"
      },
      "id": "tGjxiM1s957J",
      "execution_count": 34,
      "outputs": [
        {
          "output_type": "execute_result",
          "data": {
            "text/plain": [
              "<Figure size 872.774x451.5 with 1 Axes>"
            ],
            "image/png": "[encoded data removed]"
          },
          "metadata": {},
          "execution_count": 34
        }
      ]
    },
    {
      "cell_type": "markdown",
      "source": [
        "## 코드 요약 및 해설\n",
        "\n",
        "- 이 코드는 **균형 함수 오라클**을 사용한 Deutsch–Jozsa 알고리즘의 전체 실행 과정이다.\n",
        "- 균형 함수 오라클은 입력의 절반에 대해 0, 절반에 대해 1을 반환하는 함수 f(x) = x₀ ⊕ x₁ ⊕ ... ⊕ xₙ₋₁를 시뮬레이션한다.\n",
        "- 알고리즘은 이 오라클을 포함한 양자 회로를 구성하고, Qiskit의 시뮬레이터로 1024번 실행한 후 측정 결과를 시각화한다.\n",
        "\n",
        "---\n",
        "\n",
        "## Addition\n",
        "\n",
        "### 1. 회로 구성\n",
        "\n",
        "- 회로에는 총 4개의 큐비트가 사용된다. (입력 큐비트 3개 + 출력 큐비트 1개)\n",
        "- 전체 흐름:\n",
        "  1. 출력 큐비트를 `|1⟩` 상태로 만들기 위해 X 게이트 적용\n",
        "  2. 모든 큐비트에 Hadamard 게이트 적용 → 입력: 중첩, 출력: `|−⟩` 상태\n",
        "  3. 오라클 (balanced_oracle): 각 입력 큐비트를 제어 큐비트로 하여 출력 큐비트에 CNOT 게이트 적용  \n",
        "     → 결과적으로 출력 큐비트는 입력 비트들의 XOR 결과가 됨\n",
        "  4. 다시 입력 큐비트에 Hadamard 적용 → 간섭 효과 발생\n",
        "  5. 입력 큐비트를 측정하여 결과 확인\n",
        "\n",
        "### 2. 오라클의 동작 원리\n",
        "\n",
        "- `balanced_oracle(n)`은 입력 큐비트 각각을 출력 큐비트에 대해 제어 큐비트로 연결한다.\n",
        "- 출력 큐비트는 입력값의 패리티 (XOR 결과)에 따라 0 또는 1로 반전된다.\n",
        "- 이로 인해 입력 상태의 일부에 위상 반전이 일어나며, 다시 Hadamard를 적용하면 `|000⟩` 상태가 사라지고 다른 값(예: `111`)에 진폭이 집중된다.\n"
      ],
      "metadata": {
        "id": "2RUsgnrSCZr6"
      },
      "id": "2RUsgnrSCZr6"
    },
    {
      "cell_type": "markdown",
      "id": "5ebfb51d",
      "metadata": {
        "id": "5ebfb51d"
      },
      "source": [
        "## 6. 요약\n",
        "\n",
        "Deutsch–Jozsa 알고리즘은 고전적인 방법으로는 지수적으로 많은 함수 호출이 필요한 문제를  \n",
        "**단 한 번의 오라클 호출만으로 해결할 수 있다는 점에서 양자 우위(Quantum Advantage)**를 잘 보여준다.\n",
        "\n",
        "이 알고리즘은 함수가 상수 함수인지 균형 함수인지를 판별하는 문제를 다루며,  \n",
        "고전 알고리즘은 최악의 경우 \\(2^{n-1} + 1\\)번의 함수 호출이 필요하지만,  \n",
        "양자 알고리즘은 중첩과 간섭을 활용하여 단 한 번의 오라클 호출로 판별이 가능하다.\n",
        "\n",
        "이를 통해 양자 컴퓨팅이 특정 문제에서 고전 컴퓨팅보다 **압도적으로 효율적**일 수 있음을 입증한다.\n"
      ]
    }
  ],
  "metadata": {
    "colab": {
      "provenance": []
    },
    "language_info": {
      "name": "python"
    },
    "kernelspec": {
      "name": "python3",
      "display_name": "Python 3"
    }
  },
  "nbformat": 4,
  "nbformat_minor": 5
}