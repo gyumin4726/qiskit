{
  "cells": [
    {
      "cell_type": "markdown",
      "id": "1672fb80",
      "metadata": {
        "id": "1672fb80"
      },
      "source": [
        "# Grover's Algorithm\n",
        "Quantum Search Algorithm for Unstructured Databases\n"
      ]
    },
    {
      "cell_type": "code",
      "execution_count": 5,
      "id": "29d96e36",
      "metadata": {
        "id": "29d96e36"
      },
      "outputs": [],
      "source": [
        "!pip install \"qiskit[visualization]\" qiskit-aer --quiet"
      ]
    },
    {
      "cell_type": "markdown",
      "id": "e5b1ffaf",
      "metadata": {
        "id": "e5b1ffaf"
      },
      "source": [
        "## 1. Overview of Grover's Algorithm\n",
        "Grover's algorithm은 정렬되지 않은 데이터베이스에서 원하는 항목을 고전적인 방법보다 빠르게 찾을 수 있는 양자 알고리즘입니다.\n",
        "\n",
        "**핵심 구성요소:**\n",
        "- Initialization: 모든 상태의 중첩 생성\n",
        "- Oracle: 원하는 상태에 위상 -1 곱함\n",
        "- Diffusion Operator: 평균 기준으로 진폭 증폭\n"
      ]
    },
    {
      "cell_type": "markdown",
      "id": "0ca8c0a1",
      "metadata": {
        "id": "0ca8c0a1"
      },
      "source": [
        "## 2. Initialization"
      ]
    },
    {
      "cell_type": "code",
      "execution_count": 33,
      "id": "698746ae",
      "metadata": {
        "colab": {
          "base_uri": "https://localhost:8080/",
          "height": 487
        },
        "id": "698746ae",
        "outputId": "8dc87b93-5632-4840-bfa5-d52e84362df9"
      },
      "outputs": [
        {
          "output_type": "execute_result",
          "data": {
            "text/plain": [
              "<Figure size 640x480 with 1 Axes>"
            ],
            "image/png": "[encoded data removed]"
          },
          "metadata": {},
          "execution_count": 33
        }
      ],
      "source": [
        "from qiskit import QuantumCircuit, transpile    # 양자 회로 생성, 컴파일\n",
        "from qiskit_aer import AerSimulator             # 시뮬레이터 백엔드\n",
        "from qiskit.visualization import plot_histogram # 시각\n",
        "\n",
        "n = 3                       # 사용할 큐비트 수\n",
        "qc = QuantumCircuit(n, n)   # 양자 회로 생성\n",
        "\n",
        "# ① 균등 중첩 생성 ( 큐비트에 hADAMARD 게이트를 적용하여 모든 상태의 균등 중첩 상태로 변환)\n",
        "qc.h(range(n))\n",
        "# ② 측정 : 각 큐비트를 대응하는 고전 비트로 측정\n",
        "qc.measure(range(n), range(n))\n",
        "\n",
        "\n",
        "backend = AerSimulator()      # 시뮬레이터 백엔드 설정\n",
        "tqc = transpile(qc, backend)  # 양자 회로를 시뮬레이터에 맞는 형식으로 컴파일\n",
        "result = backend.run(tqc, shots=1024).result()  # 회로 실행 ( 1024번을 수행하여 확률 분포 측정 )\n",
        "\n",
        "counts = result.get_counts()  # 각 결과 상태에 대한 측정 횟수\n",
        "plot_histogram(counts)        # 측정 결과를 히스토그램 형태로 시각화\n"
      ]
    },
    {
      "cell_type": "markdown",
      "source": [
        "## 코드 요약 및 해설\n",
        "- 이 회로는 3개의 큐비트를 모두 Hadamard 게이트를 통해, \"모든 가능한 상태의 균등한 중첩 상태\"로 만든다.\n",
        "\n",
        "- 여기서는 n=3이므로, '|000>', '|001>', ..., '|111>' 총 8가지 상태가 동시에 존재하는 중첩 상태가 된다.\n",
        "\n",
        "- 하지만 이 중첩 상태를 직접 관측할 수는 없고, 측정을 통해서만 정보를 얻을 수 있다.\n",
        "\n",
        "- 따라서 측정 시에는 중첩된 여러 상태들 중 하나의 상태만 선택되어 고전 비트에 저장된다.\n",
        "\n",
        "- 이 과정을 여러 번 반복하여 얻은 데이터를 통해 전체 상태들의 관측 확률을 분석할 수 있다.\n",
        "\n",
        "<br>\n",
        "\n",
        "## Addition\n",
        "#### 1. Hadamard 게이트\n",
        "- Hadamard 게이트는 |0> 상태를 (|0>+|1>)/√2로 바꾼다.\n",
        "-즉 n개의 큐비트에 적용하면, 2^n개의 상태가 균등하게 중첩된 상태가 된다.\n",
        "- Grover's 알고리즘에서 모든 가능한 상태를 균등하게 섞은 초기 상태를 만들기 위해 사용된다.\n",
        "\n",
        "#### 2. 측정이 필요한 이유\n",
        "- 중첩 상태는 물리적으로 존재하지만, 관측할 수 없다.\n",
        "- 측정을 하면, 여러 개로 중첩된 상태 중 하나의 상태로 붕괴되고 그 결과가 고전 비트에 저장된다.\n",
        "- 양자역학에서의 본질적인 특성으로, 측정은 중첩을 하나의 상태로 붕괴시킨다.\n",
        "\n",
        "#### 3. 실행결과\n",
        "- 중첩 상태는 확률 진폭으로 구성된 상태이므로, 실행할 때마다 결과 분포가 달라질 수 있다.\n",
        "- 충분히 많은 샷을 통해 최대한 균등한 분포에 수렴시켜야 한다."
      ],
      "metadata": {
        "id": "nMRkd3BfrcEH"
      },
      "id": "nMRkd3BfrcEH"
    },
    {
      "cell_type": "markdown",
      "id": "5f449143",
      "metadata": {
        "id": "5f449143"
      },
      "source": [
        "## 3. Oracle (Marking the Solution State)"
      ]
    },
    {
      "cell_type": "code",
      "execution_count": 31,
      "id": "391bac89",
      "metadata": {
        "colab": {
          "base_uri": "https://localhost:8080/",
          "height": 255
        },
        "id": "391bac89",
        "outputId": "fa15c97e-a009-4e55-e990-eb6d75c9094d"
      },
      "outputs": [
        {
          "output_type": "execute_result",
          "data": {
            "text/plain": [
              "<Figure size 203.885x284.278 with 1 Axes>"
            ],
            "image/png": "[encoded data removed]"
          },
          "metadata": {},
          "execution_count": 31
        }
      ],
      "source": [
        "# 오라클 회로 정의 (찾고자 하는 상태에 위상 반전을 주는 회로)\n",
        "oracle = QuantumCircuit(n)\n",
        "\n",
        "# CCZ 게이트 적용 (큐비트 0, 1, 2가 모두 1인 상태인 |111>에 -1의 위상을 부여하는 게이트)\n",
        "oracle.ccz(0, 1, 2)\n",
        "\n",
        "# 회로 시각화\n",
        "oracle.draw('mpl')"
      ]
    },
    {
      "cell_type": "markdown",
      "source": [
        "## 코드 요약 및 해설\n",
        "- 이 부분은 Grover's 알고리즘의 핵심 요소인 Oracle 회로를 정의하는 부분이다.\n",
        "- 이 회로는, **찾고자 하는 정답 상태에만 위상을 반전**시켜서 다른 상태들과 구분한다.\n",
        "- 여기서 'ccz(0, 1, 2)'는 |111> 상태에 -1의 위상을 줘서 위상을 반전시킨다.\n",
        "- Grover's 알고리즘은 이 상태를 반복적으로 증폭시켜 최종 측정 시 정답 상태가 높은 확률로 관측되도록 유도한다.\n",
        "\n",
        "<br>\n",
        "\n",
        "## Addition\n",
        "\n",
        "#### 1. Oracle이란?\n",
        "- Grover's 알고리즘에서 찾고자 하는 정답 상태를 표시(mark)하는 연산자가 Oracle이다.\n",
        "- 정답 상태에만 -1의 위상을 부여하여, 추후 설명될 확산 연산자와 함께 해당 상태의 확률 진폭을 증폭시킨다.\n",
        "\n",
        "#### 2. CCZ 게이트\n",
        "- CCZ(Controlled Controlled Z) 게이트는, 세 큐비트가 모두 |1>일 때만 마지막 큐비트에 Z게이트를 적용하여 위상 반전을 일으킨다.\n",
        "- 여기서 Z 게이트는 |0>과 |1>의 상태는 유지하되, |1> 상태에만 위상 -1을 곱하는 양자 논리 게이트이다.\n",
        "- 마지막 큐비트에 Z게이트를 적용한다는 것은, 그 큐비트가 |1>인 상태에서만 위상에 -1의 변화를 만들어내는 것과 같다. 이는 특정 상태에만 위상 반전을 유도하는데 사용된다.\n",
        "\n",
        "#### 3. 정답 상태가 |111>이 아니라면?\n",
        "- CCZ 게이트는 오직 |111>일 때만 위상 -1을 적용하므로, 정답 상태가 |111>이 아닐 경우 직접 적용할 수가 없다.\n",
        "- 이런 경우 X게이트를 활용하여 원하는 정답 상태를 |111>처럼 보이도록 변환하는 작업이 필요하다.\n",
        "- 예를 들어, 정답 상태가 |101>인 경우, 큐비트1에 X게이트를 적용하여 |101> -> |111>로 만든 후 CCZ를 적용하고 다시 X게이트를 적용해 원래 상태로 복원해야 한다.\n",
        "- 여기서 X 게이트는 |0>과 |1>을 서로 뒤바꾸는 양자 논리 게이트이다.\n"
      ],
      "metadata": {
        "id": "-57NhNQfvHQ9"
      },
      "id": "-57NhNQfvHQ9"
    },
    {
      "cell_type": "markdown",
      "id": "24ca307c",
      "metadata": {
        "id": "24ca307c"
      },
      "source": [
        "## 4. Diffusion Operator (Inversion About the Mean)"
      ]
    },
    {
      "cell_type": "code",
      "execution_count": 36,
      "id": "3891eaa8",
      "metadata": {
        "colab": {
          "base_uri": "https://localhost:8080/",
          "height": 255
        },
        "id": "3891eaa8",
        "outputId": "23f772c7-b9f2-442f-f5e5-7801198ebb05"
      },
      "outputs": [
        {
          "output_type": "execute_result",
          "data": {
            "text/plain": [
              "<Figure size 705.552x284.278 with 1 Axes>"
            ],
            "image/png": "[encoded data removed]"
          },
          "metadata": {},
          "execution_count": 36
        }
      ],
      "source": [
        "def diffusion_operator(n):\n",
        "    qc = QuantumCircuit(n) # 양자 회로 생성\n",
        "\n",
        "    # ① 모든 큐비트에 Hadamard 게이트 적용\n",
        "    qc.h(range(n))\n",
        "    # ② 모든 큐비트에 X 게이트 적용\n",
        "    qc.x(range(n))\n",
        "    # ③ 마지막 큐비트에 H 게이트 적용\n",
        "    qc.h(n-1)\n",
        "    # ④ 다중 제어 X 게이트 (앞 뒤의 H 게이트와 연결되어, 결과적으로 다중 제어 Z 게이트 효)\n",
        "    qc.mcx(list(range(n-1)), n-1)\n",
        "    # ⑤ 마지막 큐비트에 다시 H 게이트 적용 (H - X - H = Z 구조 마무리)\n",
        "    qc.h(n-1)\n",
        "    # ⑥ 모든 큐비트에 X 게이트 다시 적용\n",
        "    qc.x(range(n))\n",
        "    # ⑦ 모든 큐비트에 Hadamard 게이트 다시 적용\n",
        "    qc.h(range(n))\n",
        "\n",
        "    return qc\n",
        "\n",
        "diff_op = diffusion_operator(n)\n",
        "diff_op.draw('mpl')"
      ]
    },
    {
      "cell_type": "markdown",
      "source": [
        "## 코드 요약 및 해설\n",
        "- 이 함수는 Grover's 알고리즘에서 정답 상태의 진폭을 증폭시키는 **확산 연산자**를 구현한 부분이다.\n",
        "- 이 연산자는 **전체 상태들의 진폭을 평균에 대해 대칭 반사**하여, Oracle로 위상이 반전된 정답 상태의 진폭을 증폭시키는 역할을 한다.\n",
        "- 정답 상태의 진폭은 점점 커지고, 다른 상태들은 작아지면서 최종 측정에서 정답 상태가 더 자주 선택되도록 한다.\n",
        "\n",
        "## Addition\n",
        "\n",
        "#### 1. 각 게이트 정리\n",
        "- X 게이트 : |0>을 |1>로, |1>을 |0>으로 바꾸는 양자 NOT 게이트\n",
        "- Z 게이트 : |0>은 그대로 두고, |1> 상태에만 위상 -1을 곱하는 게이트\n",
        "- H 게이트 : |0> 또는 |1>을 균등한 중첩 상태로 바꾸는 게이트\n",
        "\n",
        "#### 2. H-X-H = Z 변환\n",
        "- 코드 상 mcx()는 다중 제어 X 게이트이지만, **타깃 큐비트에 Hadamard → mcx → Hadamard**를 적용하면 다중 제어 Z와 동일하게 작동한다.\n",
        "- 이때 위상 -1이 부여되는 대상은, 앞서 모든 큐비트에 X 게이트를 적용해 **평균점이 되도록 옮겨둔 |000⟩ 상태**이다.\n",
        "\n",
        "#### 3. mcx 게이트의 조건\n",
        "- `qc.mcx(list(range(n-1)), n-1)`은 n-1개의 큐비트가 모두 |1⟩일 때만 마지막 큐비트에 X 게이트를 적용한다.\n",
        "- **Hadamard–mcx–Hadamard** 조합은 평균점(|000⟩)에 위상 -1을 넣어 주어, 확산 연산자의 “평균에 대한 대칭 반사” 행렬을 완성한다.\n",
        "\n",
        "#### 4. Diffusion Operator ― 단계별 설명\n",
        "\n",
        "1. **좌표계 회전으로 평균점을 원점으로 가져오기**  \n",
        "   모든 큐비트에 Hadamard 게이트를 건다.  \n",
        "   이렇게 축을 돌리면, ‘모든 상태가 똑같이 섞인 균등중첩’이 새 좌표계의 원점 `000` 자리에 자리 잡는다.\n",
        "\n",
        "2. **원점을 `111` 자리로 뒤집기**  \n",
        "   모든 큐비트에 X 게이트를 건다.  \n",
        "   다중 제어 X(mcx)는 제어 비트가 모두 1일 때만 반응하므로, 원점을 `111` 위치로 옮겨 mcx가 정확히 그 지점을 잡을 수 있게 만든다.\n",
        "\n",
        "3. **그 지점에 위상 −1을 심어 ‘거울’을 설치**  \n",
        "   마지막 큐비트에 Hadamard → mcx → Hadamard 순서를 적용한다.  \n",
        "   Hadamard–X–Hadamard 조합은 mcx를 다중 제어 Z처럼 바꿔 주기 때문에, 방금 옮겨 둔 `111` 한 점에만 위상 −1이 들어가 평균점 기준의 거울이 완성된다.\n",
        "\n",
        "4. **좌표축과 비트값을 원래대로 복귀**  \n",
        "   두 번째 단계에서 썼던 X 게이트를 다시 한 번 전 큐비트에 걸어 원점을 `111` → `000`으로 되돌리고,  \n",
        "   Hadamard를 다시 한 번 전 큐비트에 걸어 좌표축도 원래 계산-기저로 되돌린다.\n",
        "\n",
        "---\n",
        "\n",
        "#### 최종 효과\n",
        "* 회로상의 좌표계는 처음 상태로 돌아왔지만, 진폭은 방금 만든 거울에 의해 **평균에 대해 반사된** 채로 남는다.  \n",
        "* Oracle이 위상 −1로 ‘눌러’ 두었던 정답 상태는 평균에서 가장 멀어져 진폭이 커지고, 다른 상태들은 조금씩 줄어든다.  \n",
        "* 이 Oracle → Diffusion 세트를 여러 번 반복하면 **정답 상태가 측정될 확률이 급격히 높아진다**.\n"
      ],
      "metadata": {
        "id": "_WU3OuLf0PDP"
      },
      "id": "_WU3OuLf0PDP"
    },
    {
      "cell_type": "markdown",
      "id": "7606cc6c",
      "metadata": {
        "id": "7606cc6c"
      },
      "source": [
        "## 5. Full Grover Circuit and Simulation"
      ]
    },
    {
      "cell_type": "code",
      "execution_count": 37,
      "id": "7b498a28",
      "metadata": {
        "colab": {
          "base_uri": "https://localhost:8080/",
          "height": 487
        },
        "id": "7b498a28",
        "outputId": "498e01c0-f73e-4e0e-a1c8-5d17b7a45525"
      },
      "outputs": [
        {
          "output_type": "execute_result",
          "data": {
            "text/plain": [
              "<Figure size 640x480 with 1 Axes>"
            ],
            "image/png": "[encoded data removed]"
          },
          "metadata": {},
          "execution_count": 37
        }
      ],
      "source": [
        "import numpy as np\n",
        "\n",
        "grover = QuantumCircuit(n, n) # n개의 큐비트와 n개의 클래식 비트를 가지는 회로 생성\n",
        "\n",
        "# ① 모든 큐비트를 균등중첩 상태로 만듦\n",
        "grover.h(range(n))\n",
        "\n",
        "# ② Grover 반복 횟수 계산( 정답 상태를 가장 잘 증폭시킬 수 있는 최적 반복 수 )\n",
        "k = int(np.floor(np.pi/4 * np.sqrt(2**n)))\n",
        "\n",
        "# ③ Grover iteration( Oracle과 Diffusion을 반복 수행하여 정답 상태의 진폭을 증폭 )\n",
        "for _ in range(k):\n",
        "    grover.compose(oracle, inplace=True) # 오라클: 정답 상태에만 위상 -1 부여\n",
        "    grover.compose(diffusion_operator(n), inplace=True) # 확산: 평균 진폭 기준으로 반사 → 정답 상태 진폭 증폭\n",
        "\n",
        "# ④ 모든 큐비트를 대응하는 고전 비트에 측정하여 결과를 얻음\n",
        "grover.measure(range(n), range(n))\n",
        "\n",
        "# ⑤ Aer's 시뮬레이터에서 회로를 컴파일하고 1024번 실행\n",
        "backend = AerSimulator()\n",
        "tgrover = transpile(grover, backend)\n",
        "result = backend.run(tgrover, shots=1024).result()\n",
        "\n",
        "# ⑥ 측정 결과를 히스토그램으로 시각\n",
        "counts = result.get_counts()\n",
        "plot_histogram(counts)\n"
      ]
    },
    {
      "cell_type": "markdown",
      "id": "c5c00973",
      "metadata": {
        "id": "c5c00973"
      },
      "source": [
        "## 6. 결과 해석\n",
        "- 가장 높은 확률로 측정된 상태는 Oracle에서 지정한 해답 상태이다.\n",
        "- 초기에는 모든 상태가 균등하게 중첩되어 있기 때문에 각 상태가 측정될 확률이 거의 동일하다. 그러나 Oracle이 정답 상태의 위상을 -1로 반전시키고, Diffusion Operator가 그 상태의 진폭을 점점 증폭시키는 과정을 반복하면서 **정답 상태의 진폭이 커지고, 결국 측정 시 높은 확률로 그 상태가 관측된다.**\n",
        "- Grover 알고리즘은 고전적인 O(N) 탐색보다 빠른  **O(√N)**의 속도로 정답 상태를 찾을 수 있다.\n",
        "- 결과적으로, 위 코드를 통해 **정답 상태가 전체 측정 결과 중 가장 빈도 높게 등장**하는 것을 확인할 수 있다.\n"
      ]
    }
  ],
  "metadata": {
    "colab": {
      "provenance": []
    },
    "language_info": {
      "name": "python"
    },
    "kernelspec": {
      "name": "python3",
      "display_name": "Python 3"
    }
  },
  "nbformat": 4,
  "nbformat_minor": 5
}